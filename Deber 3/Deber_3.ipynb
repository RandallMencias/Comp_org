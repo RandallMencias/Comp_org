{
 "cells": [
  {
   "cell_type": "markdown",
   "source": [
    "## Homework 3\n"
   ],
   "metadata": {
    "collapsed": false
   }
  },
  {
   "cell_type": "markdown",
   "source": [
    "### 1. Use assembly to solve the following problems:\n",
    "\n",
    "    - Obtain the 50th Fibonacci number\n",
    "        ```\n",
    "        dsfgasdf\n",
    "\n",
    "```\n",
    "    - Find out if a given year is leap\n",
    "    - Given an array of integers, calculate the average\n",
    "    - Write a program to transform from Celsius to Fahrenheit and vice versa"
   ],
   "metadata": {
    "collapsed": false
   }
  },
  {
   "cell_type": "markdown",
   "source": [
    "### 2. For the following memory space, what would it look like after executing the assembly code below:\n",
    "\n",
    "    |Address|Contents|\n",
    "    |-------|--------|\n",
    "    |10     | 1      |\n",
    "    |11     | 4      |\n",
    "    |12     | 5      |\n",
    "    |13     | 112    |\n",
    "    |14     | 7      |\n",
    "\n",
    "\n",
    "   ```\n",
    "   LOAD 14\n",
    "   ADD (12)\n",
    "   STORE 12\n"
   ],
   "metadata": {
    "collapsed": false
   }
  },
  {
   "cell_type": "markdown",
   "source": [
    "### 3. Implement a function named `abs_diff` that calculates the absolute value of the difference of two inputs `a` and `b` (i.e., |a-b|), and get the assembly code output\n"
   ],
   "metadata": {
    "collapsed": false
   }
  },
  {
   "cell_type": "markdown",
   "source": [
    "### 4. What are the differences among sequential access, direct access, and random access?\n"
   ],
   "metadata": {
    "collapsed": false
   }
  },
  {
   "cell_type": "markdown",
   "source": [
    "### 5. What common characteristics are shared by all RAID levels?\n"
   ],
   "metadata": {
    "collapsed": false
   }
  },
  {
   "cell_type": "markdown",
   "source": [],
   "metadata": {
    "collapsed": false
   }
  }
 ],
 "metadata": {
  "kernelspec": {
   "display_name": "Python 3",
   "language": "python",
   "name": "python3"
  },
  "language_info": {
   "codemirror_mode": {
    "name": "ipython",
    "version": 2
   },
   "file_extension": ".py",
   "mimetype": "text/x-python",
   "name": "python",
   "nbconvert_exporter": "python",
   "pygments_lexer": "ipython2",
   "version": "2.7.6"
  }
 },
 "nbformat": 4,
 "nbformat_minor": 0
}
