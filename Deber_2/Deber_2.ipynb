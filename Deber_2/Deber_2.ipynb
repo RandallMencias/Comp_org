{
 "cells": [
  {
   "cell_type": "markdown",
   "source": [
    "## CMP-3004\n",
    "## Computer Organization\n",
    "\n",
    "### Spring 2023"
   ],
   "metadata": {
    "collapsed": false
   }
  },
  {
   "cell_type": "markdown",
   "source": [
    "## Homework 2\n"
   ],
   "metadata": {
    "collapsed": false
   }
  },
  {
   "cell_type": "markdown",
   "source": [
    "### 1. List and briefly define the possible states that define an instruction execution.\n"
   ],
   "metadata": {
    "collapsed": false
   }
  },
  {
   "cell_type": "markdown",
   "source": [
    "1. Fetch: When instruction execution starts first it needs to know what instruction to execute. This is done by fetching the instruction from memory.\n",
    "2. Decode: Once the CPU gets the instructions it needs to decode it. In other words, it needs to know what the instruction is and what it needs to do so it knows how to do it by calling the right function.\n",
    "3. Evaluate address: Once the instruction is decoded, the CPU needs to evaluate the address of the operands that it needs to use.\n",
    "4. Fetch operands: Once the instructions is decoded and the cpu understand how to execute it, it needs to fetch the operands that is going to use from memory.\n",
    "5. Execute: As the CPU now has both the instruction and the operands to execute it, it executes the instruction.\n",
    "6. Writeback: As the instruction is completed, the CPU saves the result of the execution in the memory"
   ],
   "metadata": {
    "collapsed": false
   }
  },
  {
   "cell_type": "markdown",
   "source": [
    "### 2. What types of transfers must a computer’s interconnection structure (e.g., bus) support?\n"
   ],
   "metadata": {
    "collapsed": false
   }
  },
  {
   "cell_type": "markdown",
   "source": [
    "To support transfers of information in a computer there are 3 types of buses that the computer needs to support:\n",
    "1. Address bus: This bus is used to transfer the address in the memory that the CPU wants to access.\n",
    "2. Data bus: The Data bus is used to transfer the data that is going to be stored in the memory or that is going to be used by the CPU as well as from or to I/O devices.\n",
    "3. Control bus: It allows to send the control signals to between the CPU, memory and I/O devices and allows for the use between them."
   ],
   "metadata": {
    "collapsed": false
   }
  },
  {
   "cell_type": "markdown",
   "source": [
    "### 3. Consider a hypothetical 32-bit microprocessor having 32-bit instructions composed of two fields: the first byte contains the opcode and the remainder the immediate operand or an operand address.\n",
    "a. What is the maximum directly addressable memory capacity (in bytes)?\n",
    "To find the original max we multiply $2^32 = 4.3 \\times 10^{9}$ bytes. However, since the first byte is being used for memory we need to subtract 1 byte fro the 32 bits which is $2^{32-8} = 2^{24} = 16.7 \\times 10^6$ bytes. or $16.7 MB$\n",
    "\n",
    "\n",
    "b. Discuss the impact on the system speed if the microprocessor bus has:\n",
    "\n",
    "    1. 32-bit local address bus and a 16-bit local data bus, or\n",
    "due to the fact that the data bus is 16 bits half o what the local address bus is, if the sistem was operating at max capacity this would mean that the computer would have to fullfill 2 cycles  to transfer that the full 32 bits of data that are being addressed. This would mean that the system would be operating at half the speed.\n",
    "    2. 16-bit local address bus and a 16-bit local data bus.\n",
    "    On the other hand if both buses were 16 bit it would still slow down the system as now it would have to execute 2 cycles to transfer the full 32 bits of data that are being addressed by the 32 bit processor. This would mean that the system would be operating at half the speed. However at least both buses would be working at the same speed.\n",
    "\n",
    "c. How many bits are needed for the program counter and the instruction register?\n",
    "Since both the instructions and the processor are 32 bits, the program counter and the instruction register would need to be 32 bits as well.\n"
   ],
   "metadata": {
    "collapsed": false
   }
  },
  {
   "cell_type": "markdown",
   "source": [
    "### 4. A microprocessor is clocked at a rate of 5 GHz.\n",
    "a. How long is a clock cycle?\n",
    "$\\frac{1}{5G Hz} = \\frac{1}{5 \\times 10^9} = 0.2 \\times 10 ^{-9} = 0.2 ns$\n",
    "\n",
    "b. What is the duration of a particular type of machine instruction consisting of three clock cycles?\n",
    "$0.2 ns \\times 3 = 0.6 ns$"
   ],
   "metadata": {
    "collapsed": false
   }
  },
  {
   "cell_type": "markdown",
   "source": [
    " ### 5. Suppose you wish to run a program P with $7.5 \\times 10^9$ instructions on a 5 GHz machine with a CPI of 0.8.\n",
    "a. What is the expected CPU time?\n",
    "\n",
    "$\\frac{7.5 \\times 10^9 \\times 0.8 }{5\\times 10^9} = 1.2 s$\n",
    "\n",
    "b. When you run P, it takes 3 seconds of wall clock time to complete. What is the percentage of the CPU time P received?\n",
    "$ \\frac{1.2}{3} \\times 100= 40\\%$\n"
   ],
   "metadata": {
    "collapsed": false
   }
  },
  {
   "cell_type": "markdown",
   "source": [
    "### 6. A nonpipelined processor has a clock rate of 2.5 GHz and an average CPI (cycles per instruction) of 4. An upgrade to the processor introduces a five-stage pipeline. However, due to internal pipeline delays, such as latch delay, the clock rate of the new processor has to be reduced to 2 GHz. What is the speedup achieved for a typical program?\n"
   ],
   "metadata": {
    "collapsed": false
   }
  },
  {
   "cell_type": "markdown",
   "source": [
    "### Non-pipelined\n",
    "$ \\frac{P \\times 4}{2.5\\times10^9} = P \\times 1.6 \\times 10^{-9}$\n",
    "\n",
    "### Pipelined\n",
    "$ \\frac{P \\times {(CPI + Pipeline - 1)}}{CR} = $\n",
    "$ \\frac{P \\times {(4 + 5 - 1)}}{2\\times10^9} = P \\times 4 \\times 10^{-9}$\n",
    "\n",
    "### Speedup\n",
    "$ \\frac{P \\times 1.6 \\times 10^{-9}}{P \\times 4 \\times 10^{-9}} \\times 100 = 0.4\\%$"
   ],
   "metadata": {
    "collapsed": false
   }
  },
  {
   "cell_type": "code",
   "execution_count": null,
   "outputs": [],
   "source": [],
   "metadata": {
    "collapsed": false
   }
  }
 ],
 "metadata": {
  "kernelspec": {
   "display_name": "Python 3",
   "language": "python",
   "name": "python3"
  },
  "language_info": {
   "codemirror_mode": {
    "name": "ipython",
    "version": 2
   },
   "file_extension": ".py",
   "mimetype": "text/x-python",
   "name": "python",
   "nbconvert_exporter": "python",
   "pygments_lexer": "ipython2",
   "version": "2.7.6"
  }
 },
 "nbformat": 4,
 "nbformat_minor": 0
}
