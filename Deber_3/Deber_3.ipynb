{
 "cells": [
  {
   "cell_type": "markdown",
   "source": [
    "## Homework 3\n"
   ],
   "metadata": {
    "collapsed": false
   }
  },
  {
   "cell_type": "markdown",
   "source": [
    "### 1. Use assembly to solve the following problems:\n",
    "\n",
    "    - Obtain the 50th Fibonacci number\n"
   ],
   "metadata": {
    "collapsed": false
   }
  },
  {
   "cell_type": "code",
   "execution_count": null,
   "outputs": [],
   "source": [
    ".data\n",
    "prompt1: .asciiz \"Enter the sequence index\\n\"\n",
    "prompt2: .asciiz \"The Fibonacci value is:\\n\"\n",
    "\n",
    ".text\n",
    "li $v0, 4\n",
    "la $a0, prompt1\n",
    "syscall\n",
    "\n",
    "li $v0, 5\n",
    "syscall\n",
    "\n",
    "move $a0, $v0\n",
    "jal fibonacci\n",
    "move $a1, $v0\n",
    "\n",
    "li $v0, 4\n",
    "la $a0, prompt2\n",
    "syscall\n",
    "\n",
    "li $v0, 1\n",
    "move $a0, $a1\n",
    "syscall\n",
    "\n",
    "li $v0, 10\n",
    "syscall\n",
    "\n",
    "\n",
    "\n",
    "fibonacci:\n",
    "addi $sp, $sp, -12\n",
    "sw $ra, 8($sp)\n",
    "sw $s0, 4($sp)\n",
    "sw $s1, 0($sp)\n",
    "move $s0, $a0\n",
    "li $v0, 1\n",
    "ble $s0, 0x2, fibonacciExit\n",
    "addi $a0, $s0, -1\n",
    "jal fibonacci\n",
    "move $s1, $v0\n",
    "addi $a0, $s0, -2\n",
    "jal fibonacci\n",
    "add $v0, $s1, $v0\n",
    "fibonacciExit:\n",
    "lw $ra, 8($sp)\n",
    "lw $s0, 4($sp)\n",
    "lw $s1, 0($sp)\n",
    "addi $sp, $sp, 12\n",
    "jr $ra\n"
   ],
   "metadata": {
    "collapsed": false
   }
  },
  {
   "cell_type": "markdown",
   "source": [
    "```\n",
    "- Find out if a given year is leap"
   ],
   "metadata": {
    "collapsed": false
   }
  },
  {
   "cell_type": "code",
   "execution_count": null,
   "outputs": [],
   "source": [
    ".data\n",
    "mssg: .asciiz \"Enter a year: \"\n",
    "leapYearMsg: .asciiz \"The year is a leap year.\"\n",
    "notLeapYearMsg: .asciiz \"The year is not a leap year.\"\n",
    "\n",
    ".text\n",
    ".globl main\n",
    "main:\n",
    "    li $v0, 4\n",
    "    la $a0, mssg\n",
    "    syscall\n",
    "\n",
    "    li $v0, 5\n",
    "    syscall\n",
    "    move $t0, $v0\n",
    "\n",
    "    move $t1, $t0\n",
    "    li $t2, 4\n",
    "\n",
    "    div $t1, $t2\n",
    "    mfhi $t3\n",
    "\n",
    "    beqz $t3, checkh\n",
    "    j not_leap_year\n",
    "\n",
    "checkh:\n",
    "    move $t1, $t0\n",
    "    li $t2, 100\n",
    "\n",
    "    div $t1, $t2\n",
    "    mfhi $t3\n",
    "\n",
    "    beqz $t3, leap_year\n",
    "    j not_leap_year\n",
    "\n",
    "not_leap_year:\n",
    "    li $v0, 4\n",
    "    la $a0, notLeapYearMsg\n",
    "    syscall\n",
    "    j exit\n",
    "\n",
    "leap_year:\n",
    "    li $v0, 4\n",
    "    la $a0, leapYearMsg\n",
    "    syscall\n"
   ],
   "metadata": {
    "collapsed": false
   }
  },
  {
   "cell_type": "markdown",
   "source": [
    "- Given an array of integers, calculate the average"
   ],
   "metadata": {
    "collapsed": false
   }
  },
  {
   "cell_type": "code",
   "execution_count": null,
   "outputs": [],
   "source": [
    "\n",
    ".data\n",
    "\n",
    "\n",
    ".text\n",
    ".globl main\n",
    "main:\n",
    "    li $t0, 0\n",
    "    lw $t1, length\n",
    "    lw $t2, array\n",
    "    li $t3, 0\n",
    "loop:\n",
    "    beq $t3, $t1, calculate_avg\n",
    "\n",
    "    lw $t4, 0($t2)\n",
    "    add $t0, $t0, $t4\n",
    "\n",
    "    addi $t2, $t2, 4\n",
    "    addi $t3, $t3, 1\n",
    "    j loop\n",
    "\n",
    "calculate_avg:\n",
    "    mtc1 $t0, $f0\n",
    "    cvt.s.w $f0, $f0\n",
    "    lwc1 $f1, length\n",
    "\n",
    "    div.s $f2, $f0, $f1\n",
    "    swc1 $f2, average\n",
    "\n",
    "    li $v0, 2\n",
    "    lwc1 $f12, average\n",
    "    syscall\n",
    "    li $v0, 10"
   ],
   "metadata": {
    "collapsed": false
   }
  },
  {
   "cell_type": "markdown",
   "source": [
    "```\n",
    "-Write a program to transform from Celsius to Fahrenheit and vice versa"
   ],
   "metadata": {
    "collapsed": false
   }
  },
  {
   "cell_type": "code",
   "execution_count": null,
   "outputs": [],
   "source": [
    ".data\n",
    "mssg: .asciiz \" 1 = Celsius to Fahrenheit or 2 = Fahrenheit to Celsius: \"\n",
    "temp: .asciiz \"Enter the temperature: \"\n",
    "resultMsg: .asciiz \"The converted temperature is: \"\n",
    "\n",
    ".text\n",
    ".globl main\n",
    "main:\n",
    "    li $v0, 4\n",
    "    la $a0, mssg\n",
    "    syscall\n",
    "\n",
    "    li $v0, 5\n",
    "    syscall\n",
    "    move $t0, $v0\n",
    "\n",
    "    li $v0, 4\n",
    "    la $a0, temp\n",
    "    syscall\n",
    "\n",
    "    li $v0, 6\n",
    "    syscall\n",
    "    move $t1, $f0\n",
    "\n",
    "    beq $t0, 1, celsius_to_fahrenheit\n",
    "    beq $t0, 2, fahrenheit_to_celsius\n",
    "\n",
    "\n",
    "\n",
    "celsius_to_fahrenheit:\n",
    "\n",
    "    mtc1 $t1, $f12    #\n",
    "    li.s $f13, 9.0\n",
    "    div.s $f12, $f12, $f13\n",
    "    mul.s $f12, $f12, $f13\n",
    "    add.s $f12, $f12, $f13\n",
    "\n",
    "    li $v0, 2\n",
    "    syscall\n",
    "    la $a0, resultMsg\n",
    "    li $v0, 4\n",
    "    syscall\n",
    "    li $v0, 2\n",
    "    mov.s $f12, $f0\n",
    "    syscall\n",
    "    j exit\n",
    "\n",
    "fahrenheit_to_celsius:\n",
    "    mtc1 $t1, $f12\n",
    "    li.s $f13, 32.0\n",
    "    sub.s $f12, $f12, $f13\n",
    "    li.s $f13, 5.0\n",
    "    div.s $f12, $f12, $f13\n",
    "\n",
    "    li $v0, 2\n",
    "    syscall\n",
    "    la $a0, resultMsg\n",
    "    li $v0, 4\n",
    "    syscall\n",
    "    li $v0, 2\n",
    "    mov.s $f12, $f0\n",
    "    syscall\n",
    "    j exit"
   ],
   "metadata": {
    "collapsed": false
   }
  },
  {
   "cell_type": "markdown",
   "source": [
    "### 2. For the following memory space, what would it look like after executing the assembly code below:\n",
    "\n",
    "    |Address|Contents|\n",
    "    |-------|--------|\n",
    "    |10     | 1      |\n",
    "    |11     | 4      |\n",
    "    |12     | 5      |\n",
    "    |13     | 112    |\n",
    "    |14     | 7      |\n",
    "\n",
    "\n",
    "   ```\n",
    "   LOAD 14\n",
    "   ADD (12)\n",
    "   STORE 12\n",
    "\n",
    "R=\n",
    "|Address|Contents|\n",
    "    |-------|--------|\n",
    "    |10     | 1      |\n",
    "    |11     | 4      |\n",
    "    |12     | 26     |\n",
    "    |13     | 112    |\n",
    "    |14     | 7      |"
   ],
   "metadata": {
    "collapsed": false
   }
  },
  {
   "cell_type": "markdown",
   "source": [
    "### 3. Implement a function named `abs_diff` that calculates the absolute value of the difference of two inputs `a` and `b` (i.e., |a-b|), and get the assembly code output\n"
   ],
   "metadata": {
    "collapsed": false
   }
  },
  {
   "cell_type": "code",
   "execution_count": 1,
   "outputs": [
    {
     "ename": "SyntaxError",
     "evalue": "invalid syntax (2994570746.py, line 1)",
     "output_type": "error",
     "traceback": [
      "\u001B[1;36m  Cell \u001B[1;32mIn [1], line 1\u001B[1;36m\u001B[0m\n\u001B[1;33m    abs_diff:\u001B[0m\n\u001B[1;37m             ^\u001B[0m\n\u001B[1;31mSyntaxError\u001B[0m\u001B[1;31m:\u001B[0m invalid syntax\n"
     ]
    }
   ],
   "source": [
    ".data\n",
    "mssg_1: .asciiz \"Enter the first value: \"\n",
    "mssg_2: .asciiz \"Enter the second value: \"\n",
    "resultMsg: .asciiz \"The absolute difference is: \"\n",
    "\n",
    ".text\n",
    ".globl main\n",
    "main:\n",
    "    li $v0, 4\n",
    "    la $a0, mssg_1\n",
    "    syscall\n",
    "\n",
    "    li $v0, 5\n",
    "    syscall\n",
    "    move $a0, $v0\n",
    "\n",
    "    li $v0, 4\n",
    "    la $a0, mssg_2\n",
    "    syscall\n",
    "\n",
    "    li $v0, 5\n",
    "    syscall\n",
    "    move $a1, $v0\n",
    "    jal abs_diff\n",
    "\n",
    "    li $v0, 4\n",
    "    la $a0, resultMsg\n",
    "    syscall\n",
    "    li $v0, 1\n",
    "    move $a0, $v0\n",
    "\n",
    "\n",
    "\n",
    "\n",
    "abs_diff:\n",
    "    sub $v0, $a0, $$a1\n",
    "    bltz $v0, negate\n",
    "    jr $ra\n",
    "\n",
    "negate:\n",
    "    sub $v0, $zero, $v0\n",
    "    jr $ra\n"
   ],
   "metadata": {
    "collapsed": false
   }
  },
  {
   "cell_type": "markdown",
   "source": [
    "### 4. What are the differences among sequential access, direct access, and random access?\n",
    "\n",
    "- Sequential access can be comparable to a linked list. In which in order to reach $N_i$ one must first access all the previuos addresses\n",
    "- Direct Access, allows for the memory to access a directory directly without having to go through all the previous information. This is acomplished by using address for each memory cell.\n",
    "- Random Access is often confused with direct access as is functions very similarly. It uses address to retrieve the desired data without having to go through all the previous cells however this information is temproary and is lost once power is turned off."
   ],
   "metadata": {
    "collapsed": false
   }
  },
  {
   "cell_type": "markdown",
   "source": [
    "### 5. What common characteristics are shared by all RAID levels?\n"
   ],
   "metadata": {
    "collapsed": false
   }
  },
  {
   "cell_type": "markdown",
   "source": [
    "Raid are the different types of configuration that can be given to multiple disk in order to joind them in a way that they may work in amore efficient and many times safer way. Among the different types of raid configurations data is distributed among the n amount of disk in order for data to be accessed through parallelism increaseing performance. Since raid often times uses redundacy of data as failsafe mechanism. Most raids tolerate up to a certain point the loss of data and disks which can then be easily fixed without shutting the whole system down. Finally all configurations of raid utilize a logic unit to combine the disks in a way the os recognizes the multiple disks as one and to keep the data in the desired configuration"
   ],
   "metadata": {
    "collapsed": false
   }
  },
  {
   "cell_type": "markdown",
   "source": [],
   "metadata": {
    "collapsed": false
   }
  }
 ],
 "metadata": {
  "kernelspec": {
   "display_name": "Python 3",
   "language": "python",
   "name": "python3"
  },
  "language_info": {
   "codemirror_mode": {
    "name": "ipython",
    "version": 2
   },
   "file_extension": ".py",
   "mimetype": "text/x-python",
   "name": "python",
   "nbconvert_exporter": "python",
   "pygments_lexer": "ipython2",
   "version": "2.7.6"
  }
 },
 "nbformat": 4,
 "nbformat_minor": 0
}
