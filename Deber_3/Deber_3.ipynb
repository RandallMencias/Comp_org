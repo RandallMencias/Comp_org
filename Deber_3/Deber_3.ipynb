{
 "cells": [
  {
   "cell_type": "markdown",
   "source": [
    "## Homework 3\n"
   ],
   "metadata": {
    "collapsed": false
   }
  },
  {
   "cell_type": "markdown",
   "source": [
    "### 1. Use assembly to solve the following problems:\n",
    "\n",
    "    - Obtain the 50th Fibonacci number\n"
   ],
   "metadata": {
    "collapsed": false
   }
  },
  {
   "cell_type": "markdown",
   "source": [
    "```\n",
    "- Find out if a given year is leap"
   ],
   "metadata": {
    "collapsed": false
   }
  },
  {
   "cell_type": "markdown",
   "source": [
    "```\n",
    "SECTION .data           ; data section\n",
    "\n",
    "question:\n",
    "\n",
    "db “Type year:”,10  ; the string to print, 10=cr\n",
    "\n",
    "len: equ $-question           ; “$” means “here”\n",
    "\n",
    "; len is a value, not an address\n",
    "\n",
    "fourhundred:\n",
    "\n",
    "dq 400\n",
    "\n",
    "hundred:\n",
    "\n",
    "dq 100\n",
    "\n",
    "four:\n",
    "\n",
    "dq 4\n",
    "\n",
    "message:    db “This year is a leapyear”, 10, 0 ; the string to print, 10=cr\n",
    "\n",
    "message.length:   equ     $-message\n",
    "\n",
    "message1:    db “This year is not a leapyear”, 10, 0 ; the string to print, 10=cr\n",
    "\n",
    "message1.length: equ          $-message1\n",
    "\n",
    "error:  db “Error”, 10, 0 ; the string to print, 10=cr\n",
    "\n",
    "error.length: equ       $-error\n",
    "\n",
    "SECTION .bss\n",
    "\n",
    "inp_buf resb 256\n",
    "\n",
    "SECTION .text           ; code section\n",
    "\n",
    "global _start\n",
    "\n",
    "section .text\n",
    "\n",
    "_start:\n",
    "\n",
    "mov edx,len           ; arg3, length of string to print\n",
    "\n",
    "mov   ecx,question      ; arg2, pointer to string\n",
    "\n",
    "mov   ebx,1       ; arg1, where to write, screen\n",
    "\n",
    "mov   eax,4       ; write sysout command to int 80 hex\n",
    "\n",
    "int   0x80        ; interrupt 80 hex, call kernel\n",
    "\n",
    "mov  eax,3            ;sys_read. Read what user inputs\n",
    "\n",
    "mov  ebx,0            ;From stdin\n",
    "\n",
    "mov  ecx,inp_buf      ;Save user input to buffer.\n",
    "\n",
    "int    80h\n",
    "\n",
    "xor       rax, rax                        ; clear rax\n",
    "\n",
    "lea rsi,[inp_buf]\n",
    "\n",
    "lea rdi,[inp_buf]\n",
    "\n",
    "mov rcx,4\n",
    "\n",
    "call string_to_int\n",
    "\n",
    "; RAX now contains year number\n",
    "\n",
    "push rax                ; save year\n",
    "\n",
    "xor rdx, rdx            ; clear\n",
    "\n",
    "div qword [fourhundred] ; mod year by 400\n",
    "\n",
    "cmp rdx, 0\n",
    "\n",
    "jz printLeapYear        ; if divisible by 400 it is a leap year\n",
    "\n",
    "pop rax                 ; load year\n",
    "\n",
    "push rax                ; save year\n",
    "\n",
    "xor rdx, rdx\n",
    "\n",
    "div qword [hundred]     ; divide year by 100\n",
    "\n",
    "cmp rdx, 0\n",
    "\n",
    "jz printNoLeapYear           ; if divisible 100 it is not a leap year\n",
    "\n",
    "pop rax                 ; load year\n",
    "\n",
    "push rax                ; save year\n",
    "\n",
    "xor rdx, rdx\n",
    "\n",
    "div qword [four]        ; divide year by 4\n",
    "\n",
    "cmp rdx, 0\n",
    "\n",
    "jz printLeapYear        ; if divisible by 4 it is a leap year\n",
    "\n",
    "jnz printNoLeapYear          ; else it is not a leap year\n",
    "\n",
    "jmp exit\n",
    "\n",
    "printLeapYear:\n",
    "\n",
    "pop rax\n",
    "\n",
    "mov rsi, message\n",
    "\n",
    "mov rdx, message.length\n",
    "\n",
    "xor rax, rax\n",
    "\n",
    "mov     rax, 1                  ; system call 1 is write\n",
    "\n",
    "mov     rdi, 1                  ; file handle 1 is stdout\n",
    "\n",
    "syscall\n",
    "\n",
    "jmp exit\n",
    "\n",
    "printNoLeapYear:\n",
    "\n",
    "pop rax\n",
    "\n",
    "mov rsi, message1\n",
    "\n",
    "mov rdx, message1.length\n",
    "\n",
    "xor rax, rax\n",
    "\n",
    "mov     rax, 1                  ; system call 1 is write\n",
    "\n",
    "mov     rdi, 1                  ; file handle 1 is stdout\n",
    "\n",
    "syscall\n",
    "\n",
    "jmp exit\n",
    "\n",
    "printError:\n",
    "\n",
    ";pop rax\n",
    "\n",
    ";mov rsi, rax\n",
    "\n",
    "mov rsi, error\n",
    "\n",
    "mov rdx, error.length\n",
    "\n",
    ";xor rax, rax\n",
    "\n",
    "mov     rax, 1                  ; system call 1 is write\n",
    "\n",
    "mov     rdi, 1                  ; file handle 1 is stdout\n",
    "\n",
    "syscall\n",
    "\n",
    "jmp exit\n",
    "\n",
    "exit:\n",
    "\n",
    "mov     eax, 60                 ; system call 60 is exit\n",
    "\n",
    "xor     rdi, rdi                ; exit code 0\n",
    "\n",
    "syscall\n",
    "\n",
    "; Input:\n",
    "\n",
    "; RSI = pointer to the string to convert\n",
    "\n",
    "; RCX = number of digits in the string (must be > 0)\n",
    "\n",
    "; Output:\n",
    "\n",
    "; RAX = integer value\n",
    "\n",
    "string_to_int:\n",
    "\n",
    "xor rbx,rbx    ; clear rbx\n",
    "\n",
    ".next_digit:\n",
    "\n",
    "movzx rax,byte[rsi]\n",
    "\n",
    "inc rsi\n",
    "\n",
    "sub al,’0′    ; convert from ASCII to number\n",
    "\n",
    "imul rbx,10\n",
    "\n",
    "add rbx,rax   ; rbx = rbx*10 + rax\n",
    "\n",
    "loop .next_digit  ; while (–rcx)\n",
    "\n",
    "mov rax,rbx\n",
    "\n",
    "ret"
   ],
   "metadata": {
    "collapsed": false
   }
  },
  {
   "cell_type": "markdown",
   "source": [
    "- Given an array of integers, calculate the average"
   ],
   "metadata": {
    "collapsed": false
   }
  },
  {
   "cell_type": "markdown",
   "source": [
    "```\n",
    ".data\n",
    "array: .word 1, 2, 3, 4, 5  # Example array\n",
    "length: .word 5             # Length of the array\n",
    "average: .float 0           # Variable to store the average\n",
    "\n",
    ".text\n",
    ".globl main\n",
    "main:\n",
    "    li $t0, 0               # Initialize sum to 0\n",
    "    lw $t1, length          # Load the length of the array\n",
    "    lw $t2, array           # Load the base address of the array\n",
    "\n",
    "    li $t3, 0               # Initialize the loop counter\n",
    "loop:\n",
    "    beq $t3, $t1, calculate_avg  # Exit the loop if counter equals length\n",
    "\n",
    "    lw $t4, 0($t2)          # Load the current element from array\n",
    "    add $t0, $t0, $t4       # Add the element to sum\n",
    "\n",
    "    addi $t2, $t2, 4        # Increment the array pointer\n",
    "    addi $t3, $t3, 1        # Increment the loop counter\n",
    "    j loop\n",
    "\n",
    "calculate_avg:\n",
    "    mtc1 $t0, $f0           # Move sum to floating-point register\n",
    "    cvt.s.w $f0, $f0        # Convert sum to single precision float\n",
    "    lwc1 $f1, length        # Load length to floating-point register\n",
    "\n",
    "    div.s $f2, $f0, $f1     # Divide sum by length to calculate average\n",
    "    swc1 $f2, average       # Store the average in memory\n",
    "\n",
    "    # Print the average (optional)\n",
    "    li $v0, 2               # Print float syscall code\n",
    "    lwc1 $f12, average      # Load average to floating-point register\n",
    "    syscall\n",
    "\n",
    "    # Exit the program\n",
    "    li $v0, 10              # Exit syscall code\n",
    "    syscall"
   ],
   "metadata": {
    "collapsed": false
   }
  },
  {
   "cell_type": "markdown",
   "source": [
    "```\n",
    "-Write a program to transform from Celsius to Fahrenheit and vice versa"
   ],
   "metadata": {
    "collapsed": false
   }
  },
  {
   "cell_type": "markdown",
   "source": [],
   "metadata": {
    "collapsed": false
   }
  },
  {
   "cell_type": "markdown",
   "source": [
    "### 2. For the following memory space, what would it look like after executing the assembly code below:\n",
    "\n",
    "    |Address|Contents|\n",
    "    |-------|--------|\n",
    "    |10     | 1      |\n",
    "    |11     | 4      |\n",
    "    |12     | 5      |\n",
    "    |13     | 112    |\n",
    "    |14     | 7      |\n",
    "\n",
    "\n",
    "   ```\n",
    "   LOAD 14\n",
    "   ADD (12)\n",
    "   STORE 12\n",
    "\n",
    "R=\n",
    "|Address|Contents|\n",
    "    |-------|--------|\n",
    "    |10     | 1      |\n",
    "    |11     | 4      |\n",
    "    |12     | 26     |\n",
    "    |13     | 112    |\n",
    "    |14     | 7      |"
   ],
   "metadata": {
    "collapsed": false
   }
  },
  {
   "cell_type": "markdown",
   "source": [
    "### 3. Implement a function named `abs_diff` that calculates the absolute value of the difference of two inputs `a` and `b` (i.e., |a-b|), and get the assembly code output\n"
   ],
   "metadata": {
    "collapsed": false
   }
  },
  {
   "cell_type": "markdown",
   "source": [
    "```\n",
    "\n",
    "abs_diff:\n",
    "    sub $$v0, $$a0, $$a1\n",
    "    bltz $v0, negate\n",
    "    jr $ra\n",
    "\n",
    "negate:\n",
    "    sub $v0, $zero, $v0\n",
    "    jr $ra\n",
    "```"
   ],
   "metadata": {
    "collapsed": false
   }
  },
  {
   "cell_type": "markdown",
   "source": [
    "### 4. What are the differences among sequential access, direct access, and random access?\n",
    "\n",
    "- Sequential access can be comparable to a linked list. In which in order to reach $N_i$ one must first access all the previuos addresses\n",
    "- Direct Access, allows for the memory to access a directory directly without having to go through all the previous information. This is acomplished by using address for each memory cell.\n",
    "- Random Access is often confused with direct access as is functions very similarly. It uses address to retrieve the desired data without having to go through all the previous cells however this information is temproary and is lost once power is turned off."
   ],
   "metadata": {
    "collapsed": false
   }
  },
  {
   "cell_type": "markdown",
   "source": [
    "### 5. What common characteristics are shared by all RAID levels?\n"
   ],
   "metadata": {
    "collapsed": false
   }
  },
  {
   "cell_type": "markdown",
   "source": [
    "Raid are the different types of configuration that can be given to multiple disk in order to joind them in a way that they may work in amore efficient and many times safer way. Among the different types of raid configurations data is distributed among the n amount of disk in order for data to be accessed through parallelism increaseing performance. Since raid often times uses redundacy of data as failsafe mechanism. Most raids tolerate up to a certain point the loss of data and disks which can then be easily fixed without shutting the whole system down. Finally all configurations of raid utilize a logic unit to combine the disks in a way the os recognizes the multiple disks as one and to keep the data in the desired configuration"
   ],
   "metadata": {
    "collapsed": false
   }
  },
  {
   "cell_type": "markdown",
   "source": [],
   "metadata": {
    "collapsed": false
   }
  }
 ],
 "metadata": {
  "kernelspec": {
   "display_name": "Python 3",
   "language": "python",
   "name": "python3"
  },
  "language_info": {
   "codemirror_mode": {
    "name": "ipython",
    "version": 2
   },
   "file_extension": ".py",
   "mimetype": "text/x-python",
   "name": "python",
   "nbconvert_exporter": "python",
   "pygments_lexer": "ipython2",
   "version": "2.7.6"
  }
 },
 "nbformat": 4,
 "nbformat_minor": 0
}
